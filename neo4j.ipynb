{
 "cells": [
  {
   "cell_type": "code",
   "execution_count": 1,
   "id": "a4b81c07",
   "metadata": {},
   "outputs": [],
   "source": [
    "from py2neo import *\n",
    "import csv"
   ]
  },
  {
   "cell_type": "markdown",
   "id": "b72d2e47",
   "metadata": {},
   "source": [
    "连接数据库"
   ]
  },
  {
   "cell_type": "code",
   "execution_count": 2,
   "id": "92128c53",
   "metadata": {},
   "outputs": [],
   "source": [
    "g = Graph(\"http://localhost:7474\", auth=(\"neo4j\", \"123456neo4j\"))"
   ]
  },
  {
   "cell_type": "markdown",
   "id": "6c75dfec",
   "metadata": {},
   "source": [
    "导入节点，边"
   ]
  },
  {
   "cell_type": "code",
   "execution_count": 3,
   "id": "3963bf61",
   "metadata": {},
   "outputs": [
    {
     "name": "stdout",
     "output_type": "stream",
     "text": [
      "CPU times: user 770 µs, sys: 570 µs, total: 1.34 ms\n",
      "Wall time: 69 ms\n"
     ]
    },
    {
     "data": {
      "text/html": [
       "(No data)"
      ],
      "text/plain": [
       "(No data)"
      ]
     },
     "execution_count": 3,
     "metadata": {},
     "output_type": "execute_result"
    }
   ],
   "source": [
    "%%time\n",
    "cql_accounts = '''LOAD CSV WITH HEADERS FROM 'file:///accounts.csv' AS line\n",
    "Create (:Account {acct_id: line.acct_id,\n",
    "                  dsply_nm: line.dsply_nm,\n",
    "                  type: line.type,\n",
    "                  acct_stat: line.acct_stat,\n",
    "                  acct_rptng_crncy: line.acct_rptng_crncy,\n",
    "                  prior_sar_count: line.prior_sar_count,\n",
    "                  branch_id: line.branch_id,\n",
    "                  open_dt: line.open_dt,\n",
    "                  close_dt: line.close_dt,\n",
    "                  initial_deposit: line.initial_deposit,\n",
    "                  tx_behavior_id: line.tx_behavior_id,\n",
    "                  bank_id: line.bank_id,\n",
    "                  first_name: line.first_name,\n",
    "                  last_name: line.last_name,\n",
    "                  street_addr: line.street_addr,\n",
    "                  city: line.city,\n",
    "                  state: line.state,\n",
    "                  country: line.country,\n",
    "                  zip: line.zip,\n",
    "                  gender: line.gender,\n",
    "                  birth_date: line.birth_date,\n",
    "                  ssn: line.ssn,\n",
    "                  lon: line.lon,\n",
    "                  lat: line.lat})'''\n",
    "g.run(cql_accounts)"
   ]
  },
  {
   "cell_type": "code",
   "execution_count": 4,
   "id": "8e7eecbe",
   "metadata": {},
   "outputs": [
    {
     "name": "stdout",
     "output_type": "stream",
     "text": [
      "CPU times: user 1.56 ms, sys: 765 µs, total: 2.33 ms\n",
      "Wall time: 318 ms\n"
     ]
    },
    {
     "data": {
      "text/html": [
       "(No data)"
      ],
      "text/plain": [
       "(No data)"
      ]
     },
     "execution_count": 4,
     "metadata": {},
     "output_type": "execute_result"
    }
   ],
   "source": [
    "%%time\n",
    "cql_transactions = '''LOAD CSV WITH HEADERS FROM 'file:///transactions.csv' AS line\n",
    "MATCH (from: Account {acct_id:line.orig_acct}), (to: Account {acct_id:line.bene_acct})\n",
    "Merge(from)-[r:Transaction {tran_id: line.tran_id,\n",
    "                            orig_acct: line.orig_acct,\n",
    "                            bene_acct: line.bene_acct,\n",
    "                            tx_type: line.tx_type,\n",
    "                            base_amt: line.base_amt,\n",
    "                            tran_timestamp: line.tran_timestamp,\n",
    "                            is_sar: line.is_sar,\n",
    "                            alert_id: line.alert_id}]->(to)'''\n",
    "g.run(cql_transactions)"
   ]
  },
  {
   "cell_type": "code",
   "execution_count": 5,
   "id": "e20c7f94",
   "metadata": {},
   "outputs": [
    {
     "name": "stdout",
     "output_type": "stream",
     "text": [
      "CPU times: user 2.94 ms, sys: 1.8 ms, total: 4.74 ms\n",
      "Wall time: 21.1 ms\n"
     ]
    },
    {
     "data": {
      "text/html": [
       "<table><tr><th>file</th><th>source</th><th>format</th><th>nodes</th><th>relationships</th><th>properties</th><th>time</th><th>rows</th><th>batchSize</th><th>batches</th><th>done</th><th>data</th></tr><tr><td style=\"text-align:left\">output.csv</td><td style=\"text-align:left\">database: nodes(100), rels(1789)</td><td style=\"text-align:left\">csv</td><td style=\"text-align:right\">100</td><td style=\"text-align:right\">1789</td><td style=\"text-align:right\">16612</td><td style=\"text-align:right\">13</td><td style=\"text-align:right\">1889</td><td style=\"text-align:right\">20000</td><td style=\"text-align:right\">1</td><td style=\"text-align:left\">true</td><td style=\"text-align:right\">null</td></tr></table>"
      ],
      "text/plain": [
       " file       | source                           | format | nodes | relationships | properties | time | rows | batchSize | batches | done | data \n",
       "------------|----------------------------------|--------|-------|---------------|------------|------|------|-----------|---------|------|------\n",
       " output.csv | database: nodes(100), rels(1789) | csv    |   100 |          1789 |      16612 |   13 | 1889 |     20000 |       1 | true | null "
      ]
     },
     "execution_count": 5,
     "metadata": {},
     "output_type": "execute_result"
    }
   ],
   "source": [
    "%%time\n",
    "cql_out = 'CALL apoc.export.csv.all(\"output.csv\", {})'\n",
    "g.run(cql_out)"
   ]
  },
  {
   "cell_type": "code",
   "execution_count": null,
   "id": "9b38c655",
   "metadata": {},
   "outputs": [],
   "source": []
  }
 ],
 "metadata": {
  "kernelspec": {
   "display_name": "Python 3 (ipykernel)",
   "language": "python",
   "name": "python3"
  },
  "language_info": {
   "codemirror_mode": {
    "name": "ipython",
    "version": 3
   },
   "file_extension": ".py",
   "mimetype": "text/x-python",
   "name": "python",
   "nbconvert_exporter": "python",
   "pygments_lexer": "ipython3",
   "version": "3.9.12"
  }
 },
 "nbformat": 4,
 "nbformat_minor": 5
}
